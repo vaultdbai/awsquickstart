{
 "cells": [
  {
   "cell_type": "code",
   "execution_count": null,
   "metadata": {},
   "outputs": [],
   "source": [
    "import requests\n",
    "import os\n",
    "\n",
    "def download_file(url, filename=None):\n",
    "  \"\"\"Downloads a file from a URL and saves it locally.\n",
    "\n",
    "  Args:\n",
    "    url: The URL of the file to download.\n",
    "    filename: The filename to save the downloaded file as. If not specified,\n",
    "      the filename will be extracted from the URL.\n",
    "  \"\"\"\n",
    "  response = requests.get(url, stream=True)\n",
    "  response.raise_for_status()\n",
    "  \n",
    "  if filename is None:\n",
    "    filename = url.split(\"/\")[-1]\n",
    "\n",
    "  if os.path.isfile(filename):\n",
    "    os.remove(filename)  \n",
    "\n",
    "  if os.path.isfile(filename+\".wal\"):\n",
    "    os.remove(filename+\".wal\")  \n",
    "\n",
    "  with open(filename, \"wb\") as f:\n",
    "    for chunk in response.iter_content(1024):\n",
    "      if chunk:  # filter out keep-alive new chunks\n",
    "        f.write(chunk)\n",
    "        \n",
    "  for x in os.listdir():\n",
    "    if x.endswith(\".db\") or x.endswith(\".wal\"):\n",
    "        # Prints only text file present in My Folder\n",
    "        print(x)\n",
    "        \n",
    "  return filename\n",
    "\n",
    "downloaded_filename=None\n",
    "for x in os.listdir():\n",
    "  if x.endswith(\".db\") or x.endswith(\".wal\"):\n",
    "      # Prints only text file present in My Folder\n",
    "      print(x)"
   ]
  },
  {
   "cell_type": "markdown",
   "metadata": {},
   "source": [
    "Download Schema"
   ]
  },
  {
   "cell_type": "code",
   "execution_count": null,
   "metadata": {},
   "outputs": [],
   "source": [
    "url = \"http://dev-public-storage-440955376164.s3-website.us-east-2.amazonaws.com/catalogs/dev.db\"\n",
    "downloaded_filename = download_file(url)"
   ]
  },
  {
   "cell_type": "markdown",
   "metadata": {},
   "source": [
    "Open Database and Login"
   ]
  },
  {
   "cell_type": "code",
   "execution_count": null,
   "metadata": {},
   "outputs": [],
   "source": [
    "import duckdb\n",
    "from duckdb import login\n",
    "\n",
    "connection = duckdb.login.cognito(\"vaultdb\",\"test123\", downloaded_filename or \"dev.db\")"
   ]
  },
  {
   "cell_type": "code",
   "execution_count": null,
   "metadata": {},
   "outputs": [],
   "source": [
    "connection.execute(\"SELECT * FROM vaultdb_configs\").fetchdf()"
   ]
  },
  {
   "cell_type": "markdown",
   "metadata": {},
   "source": [
    "Downloaded Database is empty"
   ]
  },
  {
   "cell_type": "code",
   "execution_count": null,
   "metadata": {},
   "outputs": [],
   "source": [
    "connection.execute(\"SELECT * FROM another_T\").fetchdf()"
   ]
  },
  {
   "cell_type": "markdown",
   "metadata": {},
   "source": [
    "Insert Data Locally"
   ]
  },
  {
   "cell_type": "code",
   "execution_count": null,
   "metadata": {},
   "outputs": [],
   "source": [
    "connection.execute(\"INSERT INTO another_T VALUES (81,92,93,94,95,96,97,98)\")"
   ]
  },
  {
   "cell_type": "code",
   "execution_count": null,
   "metadata": {},
   "outputs": [],
   "source": [
    "connection.execute(\"SELECT * FROM another_T\").fetchdf()"
   ]
  },
  {
   "cell_type": "markdown",
   "metadata": {},
   "source": [
    "Push Inserted Data to Server"
   ]
  },
  {
   "cell_type": "code",
   "execution_count": null,
   "metadata": {},
   "outputs": [],
   "source": [
    "connection.execute('PUSH DATABASE dev;').fetchdf()"
   ]
  },
  {
   "cell_type": "markdown",
   "metadata": {},
   "source": [
    "Data Inheritence"
   ]
  },
  {
   "cell_type": "code",
   "execution_count": null,
   "metadata": {},
   "outputs": [],
   "source": [
    "connection.execute(f\"PRAGMA enable_data_inheritance;\")\n",
    "connection.execute(\"SELECT * FROM another_T\").fetchdf()"
   ]
  },
  {
   "cell_type": "markdown",
   "metadata": {},
   "source": [
    "Create Objects Locally"
   ]
  },
  {
   "cell_type": "code",
   "execution_count": null,
   "metadata": {},
   "outputs": [],
   "source": [
    "connection.execute('BEGIN TRANSACTION;')\n",
    "connection.execute('CREATE TABLE demo (col1 INT, col2 INT, col3 INT, col4 INT, col5 INT, col6 INT, col7 INT, col8 INT)')\n",
    "connection.execute(\"INSERT INTO demo VALUES (1,2,3,4,5,6,7,8), (11,22,33,44,55,66,77,88), (111,222,333,444,555,666,777,888), (1111,2222,3333,4444,5555,6666,7777,8888)\")\n",
    "connection.execute('COMMIT;')"
   ]
  },
  {
   "cell_type": "markdown",
   "metadata": {},
   "source": []
  },
  {
   "cell_type": "code",
   "execution_count": null,
   "metadata": {},
   "outputs": [],
   "source": [
    "connection.execute('PUSH DATABASE dev;').fetchdf()"
   ]
  }
 ],
 "metadata": {
  "kernelspec": {
   "display_name": "Python 3",
   "language": "python",
   "name": "python3"
  },
  "language_info": {
   "codemirror_mode": {
    "name": "ipython",
    "version": 3
   },
   "file_extension": ".py",
   "mimetype": "text/x-python",
   "name": "python",
   "nbconvert_exporter": "python",
   "pygments_lexer": "ipython3",
   "version": "3.12.2"
  }
 },
 "nbformat": 4,
 "nbformat_minor": 2
}
