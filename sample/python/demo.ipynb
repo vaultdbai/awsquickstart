{
 "cells": [
  {
   "cell_type": "code",
   "execution_count": 1,
   "metadata": {},
   "outputs": [],
   "source": [
    "import requests\n",
    "import os\n",
    "\n",
    "def download_file(url, filename=None):\n",
    "  \"\"\"Downloads a file from a URL and saves it locally.\n",
    "\n",
    "  Args:\n",
    "    url: The URL of the file to download.\n",
    "    filename: The filename to save the downloaded file as. If not specified,\n",
    "      the filename will be extracted from the URL.\n",
    "  \"\"\"\n",
    "  response = requests.get(url, stream=True)\n",
    "  response.raise_for_status()\n",
    "  \n",
    "  if filename is None:\n",
    "    filename = url.split(\"/\")[-1]\n",
    "\n",
    "  if os.path.isfile(filename):\n",
    "    os.remove(filename)  \n",
    "\n",
    "  if os.path.isfile(filename+\".wal\"):\n",
    "    os.remove(filename+\".wal\")  \n",
    "\n",
    "  with open(filename, \"wb\") as f:\n",
    "    for chunk in response.iter_content(1024):\n",
    "      if chunk:  # filter out keep-alive new chunks\n",
    "        f.write(chunk)\n",
    "\n",
    "  return filename"
   ]
  },
  {
   "cell_type": "code",
   "execution_count": 2,
   "metadata": {},
   "outputs": [
    {
     "name": "stdout",
     "output_type": "stream",
     "text": [
      "dev.db\n",
      "dev.db.wal\n"
     ]
    }
   ],
   "source": [
    "for x in os.listdir():\n",
    "    if x.endswith(\".db\") or x.endswith(\".wal\"):\n",
    "        # Prints only text file present in My Folder\n",
    "        print(x)"
   ]
  },
  {
   "cell_type": "markdown",
   "metadata": {},
   "source": [
    "Download Schema"
   ]
  },
  {
   "cell_type": "code",
   "execution_count": 3,
   "metadata": {},
   "outputs": [
    {
     "data": {
      "text/plain": [
       "'dev.db'"
      ]
     },
     "execution_count": 3,
     "metadata": {},
     "output_type": "execute_result"
    }
   ],
   "source": [
    "url = \"http://dev-public-storage-440955376164.s3-website.us-east-2.amazonaws.com/catalogs/dev.db\"\n",
    "downloaded_filename = download_file(url)\n",
    "downloaded_filename"
   ]
  },
  {
   "cell_type": "markdown",
   "metadata": {},
   "source": [
    "Open Database and Login"
   ]
  },
  {
   "cell_type": "code",
   "execution_count": 4,
   "metadata": {},
   "outputs": [
    {
     "ename": "ModuleNotFoundError",
     "evalue": "No module named 'duckdb'",
     "output_type": "error",
     "traceback": [
      "\u001b[0;31m---------------------------------------------------------------------------\u001b[0m",
      "\u001b[0;31mModuleNotFoundError\u001b[0m                       Traceback (most recent call last)",
      "Cell \u001b[0;32mIn[4], line 1\u001b[0m\n\u001b[0;32m----> 1\u001b[0m \u001b[38;5;28;01mimport\u001b[39;00m \u001b[38;5;21;01mduckdb\u001b[39;00m\n\u001b[1;32m      2\u001b[0m \u001b[38;5;28;01mfrom\u001b[39;00m \u001b[38;5;21;01mduckdb\u001b[39;00m \u001b[38;5;28;01mimport\u001b[39;00m login\n\u001b[1;32m      4\u001b[0m connection \u001b[38;5;241m=\u001b[39m duckdb\u001b[38;5;241m.\u001b[39mlogin\u001b[38;5;241m.\u001b[39mcognito(\u001b[38;5;124m\"\u001b[39m\u001b[38;5;124mvaultdb\u001b[39m\u001b[38;5;124m\"\u001b[39m,\u001b[38;5;124m\"\u001b[39m\u001b[38;5;124mtest123\u001b[39m\u001b[38;5;124m\"\u001b[39m, downloaded_filename)\n",
      "\u001b[0;31mModuleNotFoundError\u001b[0m: No module named 'duckdb'"
     ]
    }
   ],
   "source": [
    "import duckdb\n",
    "from duckdb import login\n",
    "\n",
    "connection = duckdb.login.cognito(\"vaultdb\",\"test123\", downloaded_filename)"
   ]
  },
  {
   "cell_type": "code",
   "execution_count": 7,
   "metadata": {},
   "outputs": [
    {
     "data": {
      "text/html": [
       "<div>\n",
       "<style scoped>\n",
       "    .dataframe tbody tr th:only-of-type {\n",
       "        vertical-align: middle;\n",
       "    }\n",
       "\n",
       "    .dataframe tbody tr th {\n",
       "        vertical-align: top;\n",
       "    }\n",
       "\n",
       "    .dataframe thead th {\n",
       "        text-align: right;\n",
       "    }\n",
       "</style>\n",
       "<table border=\"1\" class=\"dataframe\">\n",
       "  <thead>\n",
       "    <tr style=\"text-align: right;\">\n",
       "      <th></th>\n",
       "      <th>database_name</th>\n",
       "      <th>database_oid</th>\n",
       "      <th>schema_name</th>\n",
       "      <th>schema_oid</th>\n",
       "      <th>config_name</th>\n",
       "      <th>config_oid</th>\n",
       "      <th>internal</th>\n",
       "      <th>temporary</th>\n",
       "      <th>config_value</th>\n",
       "    </tr>\n",
       "  </thead>\n",
       "  <tbody>\n",
       "    <tr>\n",
       "      <th>0</th>\n",
       "      <td>dev</td>\n",
       "      <td>1096</td>\n",
       "      <td>security</td>\n",
       "      <td>1100</td>\n",
       "      <td>application_name</td>\n",
       "      <td>1111</td>\n",
       "      <td>False</td>\n",
       "      <td>False</td>\n",
       "      <td>dev</td>\n",
       "    </tr>\n",
       "    <tr>\n",
       "      <th>1</th>\n",
       "      <td>dev</td>\n",
       "      <td>1096</td>\n",
       "      <td>security</td>\n",
       "      <td>1100</td>\n",
       "      <td>identity_pool_id</td>\n",
       "      <td>1113</td>\n",
       "      <td>False</td>\n",
       "      <td>False</td>\n",
       "      <td>us-east-2:9b07f85f-bb93-49d5-bdea-7921cf7b247a</td>\n",
       "    </tr>\n",
       "    <tr>\n",
       "      <th>2</th>\n",
       "      <td>dev</td>\n",
       "      <td>1096</td>\n",
       "      <td>security</td>\n",
       "      <td>1100</td>\n",
       "      <td>remote</td>\n",
       "      <td>1115</td>\n",
       "      <td>False</td>\n",
       "      <td>False</td>\n",
       "      <td>s3://dev-data-440955376164/dev</td>\n",
       "    </tr>\n",
       "    <tr>\n",
       "      <th>3</th>\n",
       "      <td>dev</td>\n",
       "      <td>1096</td>\n",
       "      <td>security</td>\n",
       "      <td>1100</td>\n",
       "      <td>remote_merge_path</td>\n",
       "      <td>1117</td>\n",
       "      <td>False</td>\n",
       "      <td>False</td>\n",
       "      <td>s3://dev-public-storage-440955376164/dev</td>\n",
       "    </tr>\n",
       "    <tr>\n",
       "      <th>4</th>\n",
       "      <td>dev</td>\n",
       "      <td>1096</td>\n",
       "      <td>security</td>\n",
       "      <td>1100</td>\n",
       "      <td>user_pool_client_id</td>\n",
       "      <td>1119</td>\n",
       "      <td>False</td>\n",
       "      <td>False</td>\n",
       "      <td>i9iogmrgf9qu3lrqsdlv5ul65</td>\n",
       "    </tr>\n",
       "    <tr>\n",
       "      <th>5</th>\n",
       "      <td>dev</td>\n",
       "      <td>1096</td>\n",
       "      <td>security</td>\n",
       "      <td>1100</td>\n",
       "      <td>user_pool_id</td>\n",
       "      <td>1121</td>\n",
       "      <td>False</td>\n",
       "      <td>False</td>\n",
       "      <td>us-east-2_0G3LUmwQn</td>\n",
       "    </tr>\n",
       "  </tbody>\n",
       "</table>\n",
       "</div>"
      ],
      "text/plain": [
       "  database_name  database_oid schema_name  schema_oid          config_name  \\\n",
       "0           dev          1096    security        1100     application_name   \n",
       "1           dev          1096    security        1100     identity_pool_id   \n",
       "2           dev          1096    security        1100               remote   \n",
       "3           dev          1096    security        1100    remote_merge_path   \n",
       "4           dev          1096    security        1100  user_pool_client_id   \n",
       "5           dev          1096    security        1100         user_pool_id   \n",
       "\n",
       "   config_oid  internal  temporary  \\\n",
       "0        1111     False      False   \n",
       "1        1113     False      False   \n",
       "2        1115     False      False   \n",
       "3        1117     False      False   \n",
       "4        1119     False      False   \n",
       "5        1121     False      False   \n",
       "\n",
       "                                     config_value  \n",
       "0                                             dev  \n",
       "1  us-east-2:9b07f85f-bb93-49d5-bdea-7921cf7b247a  \n",
       "2                  s3://dev-data-440955376164/dev  \n",
       "3        s3://dev-public-storage-440955376164/dev  \n",
       "4                       i9iogmrgf9qu3lrqsdlv5ul65  \n",
       "5                             us-east-2_0G3LUmwQn  "
      ]
     },
     "execution_count": 7,
     "metadata": {},
     "output_type": "execute_result"
    }
   ],
   "source": [
    "connection.execute(\"SELECT * FROM vaultdb_configs\").fetchdf()"
   ]
  },
  {
   "cell_type": "markdown",
   "metadata": {},
   "source": [
    "Downloaded Database is empty"
   ]
  },
  {
   "cell_type": "code",
   "execution_count": 8,
   "metadata": {},
   "outputs": [
    {
     "data": {
      "text/html": [
       "<div>\n",
       "<style scoped>\n",
       "    .dataframe tbody tr th:only-of-type {\n",
       "        vertical-align: middle;\n",
       "    }\n",
       "\n",
       "    .dataframe tbody tr th {\n",
       "        vertical-align: top;\n",
       "    }\n",
       "\n",
       "    .dataframe thead th {\n",
       "        text-align: right;\n",
       "    }\n",
       "</style>\n",
       "<table border=\"1\" class=\"dataframe\">\n",
       "  <thead>\n",
       "    <tr style=\"text-align: right;\">\n",
       "      <th></th>\n",
       "      <th>col1</th>\n",
       "      <th>col2</th>\n",
       "      <th>col3</th>\n",
       "      <th>col4</th>\n",
       "      <th>col5</th>\n",
       "      <th>col6</th>\n",
       "      <th>col7</th>\n",
       "      <th>col8</th>\n",
       "    </tr>\n",
       "  </thead>\n",
       "  <tbody>\n",
       "    <tr>\n",
       "      <th>0</th>\n",
       "      <td>1</td>\n",
       "      <td>2</td>\n",
       "      <td>3</td>\n",
       "      <td>4</td>\n",
       "      <td>5</td>\n",
       "      <td>6</td>\n",
       "      <td>7</td>\n",
       "      <td>8</td>\n",
       "    </tr>\n",
       "    <tr>\n",
       "      <th>1</th>\n",
       "      <td>11</td>\n",
       "      <td>22</td>\n",
       "      <td>33</td>\n",
       "      <td>44</td>\n",
       "      <td>55</td>\n",
       "      <td>66</td>\n",
       "      <td>77</td>\n",
       "      <td>88</td>\n",
       "    </tr>\n",
       "    <tr>\n",
       "      <th>2</th>\n",
       "      <td>111</td>\n",
       "      <td>222</td>\n",
       "      <td>333</td>\n",
       "      <td>444</td>\n",
       "      <td>555</td>\n",
       "      <td>666</td>\n",
       "      <td>777</td>\n",
       "      <td>888</td>\n",
       "    </tr>\n",
       "    <tr>\n",
       "      <th>3</th>\n",
       "      <td>1111</td>\n",
       "      <td>2222</td>\n",
       "      <td>3333</td>\n",
       "      <td>4444</td>\n",
       "      <td>5555</td>\n",
       "      <td>6666</td>\n",
       "      <td>7777</td>\n",
       "      <td>8888</td>\n",
       "    </tr>\n",
       "  </tbody>\n",
       "</table>\n",
       "</div>"
      ],
      "text/plain": [
       "   col1  col2  col3  col4  col5  col6  col7  col8\n",
       "0     1     2     3     4     5     6     7     8\n",
       "1    11    22    33    44    55    66    77    88\n",
       "2   111   222   333   444   555   666   777   888\n",
       "3  1111  2222  3333  4444  5555  6666  7777  8888"
      ]
     },
     "execution_count": 8,
     "metadata": {},
     "output_type": "execute_result"
    }
   ],
   "source": [
    "connection.execute(\"SELECT * FROM another_T\").fetchdf()"
   ]
  },
  {
   "cell_type": "markdown",
   "metadata": {},
   "source": [
    "Insert Data Locally"
   ]
  },
  {
   "cell_type": "code",
   "execution_count": 9,
   "metadata": {},
   "outputs": [
    {
     "data": {
      "text/plain": [
       "<duckdb.duckdb.DuckDBPyConnection at 0x7fb2bc5e9df0>"
      ]
     },
     "execution_count": 9,
     "metadata": {},
     "output_type": "execute_result"
    }
   ],
   "source": [
    "connection.execute(\"INSERT INTO another_T VALUES (91,92,93,94,95,96,97,98)\")"
   ]
  },
  {
   "cell_type": "code",
   "execution_count": 10,
   "metadata": {},
   "outputs": [
    {
     "data": {
      "text/html": [
       "<div>\n",
       "<style scoped>\n",
       "    .dataframe tbody tr th:only-of-type {\n",
       "        vertical-align: middle;\n",
       "    }\n",
       "\n",
       "    .dataframe tbody tr th {\n",
       "        vertical-align: top;\n",
       "    }\n",
       "\n",
       "    .dataframe thead th {\n",
       "        text-align: right;\n",
       "    }\n",
       "</style>\n",
       "<table border=\"1\" class=\"dataframe\">\n",
       "  <thead>\n",
       "    <tr style=\"text-align: right;\">\n",
       "      <th></th>\n",
       "      <th>col1</th>\n",
       "      <th>col2</th>\n",
       "      <th>col3</th>\n",
       "      <th>col4</th>\n",
       "      <th>col5</th>\n",
       "      <th>col6</th>\n",
       "      <th>col7</th>\n",
       "      <th>col8</th>\n",
       "    </tr>\n",
       "  </thead>\n",
       "  <tbody>\n",
       "    <tr>\n",
       "      <th>0</th>\n",
       "      <td>1</td>\n",
       "      <td>2</td>\n",
       "      <td>3</td>\n",
       "      <td>4</td>\n",
       "      <td>5</td>\n",
       "      <td>6</td>\n",
       "      <td>7</td>\n",
       "      <td>8</td>\n",
       "    </tr>\n",
       "    <tr>\n",
       "      <th>1</th>\n",
       "      <td>11</td>\n",
       "      <td>22</td>\n",
       "      <td>33</td>\n",
       "      <td>44</td>\n",
       "      <td>55</td>\n",
       "      <td>66</td>\n",
       "      <td>77</td>\n",
       "      <td>88</td>\n",
       "    </tr>\n",
       "    <tr>\n",
       "      <th>2</th>\n",
       "      <td>111</td>\n",
       "      <td>222</td>\n",
       "      <td>333</td>\n",
       "      <td>444</td>\n",
       "      <td>555</td>\n",
       "      <td>666</td>\n",
       "      <td>777</td>\n",
       "      <td>888</td>\n",
       "    </tr>\n",
       "    <tr>\n",
       "      <th>3</th>\n",
       "      <td>1111</td>\n",
       "      <td>2222</td>\n",
       "      <td>3333</td>\n",
       "      <td>4444</td>\n",
       "      <td>5555</td>\n",
       "      <td>6666</td>\n",
       "      <td>7777</td>\n",
       "      <td>8888</td>\n",
       "    </tr>\n",
       "    <tr>\n",
       "      <th>4</th>\n",
       "      <td>91</td>\n",
       "      <td>92</td>\n",
       "      <td>93</td>\n",
       "      <td>94</td>\n",
       "      <td>95</td>\n",
       "      <td>96</td>\n",
       "      <td>97</td>\n",
       "      <td>98</td>\n",
       "    </tr>\n",
       "  </tbody>\n",
       "</table>\n",
       "</div>"
      ],
      "text/plain": [
       "   col1  col2  col3  col4  col5  col6  col7  col8\n",
       "0     1     2     3     4     5     6     7     8\n",
       "1    11    22    33    44    55    66    77    88\n",
       "2   111   222   333   444   555   666   777   888\n",
       "3  1111  2222  3333  4444  5555  6666  7777  8888\n",
       "4    91    92    93    94    95    96    97    98"
      ]
     },
     "execution_count": 10,
     "metadata": {},
     "output_type": "execute_result"
    }
   ],
   "source": [
    "connection.execute(\"SELECT * FROM another_T\").fetchdf()"
   ]
  },
  {
   "cell_type": "markdown",
   "metadata": {},
   "source": [
    "Data Inheritence"
   ]
  },
  {
   "cell_type": "code",
   "execution_count": 11,
   "metadata": {},
   "outputs": [
    {
     "data": {
      "text/html": [
       "<div>\n",
       "<style scoped>\n",
       "    .dataframe tbody tr th:only-of-type {\n",
       "        vertical-align: middle;\n",
       "    }\n",
       "\n",
       "    .dataframe tbody tr th {\n",
       "        vertical-align: top;\n",
       "    }\n",
       "\n",
       "    .dataframe thead th {\n",
       "        text-align: right;\n",
       "    }\n",
       "</style>\n",
       "<table border=\"1\" class=\"dataframe\">\n",
       "  <thead>\n",
       "    <tr style=\"text-align: right;\">\n",
       "      <th></th>\n",
       "      <th>col1</th>\n",
       "      <th>col2</th>\n",
       "      <th>col3</th>\n",
       "      <th>col4</th>\n",
       "      <th>col5</th>\n",
       "      <th>col6</th>\n",
       "      <th>col7</th>\n",
       "      <th>col8</th>\n",
       "    </tr>\n",
       "  </thead>\n",
       "  <tbody>\n",
       "    <tr>\n",
       "      <th>0</th>\n",
       "      <td>1</td>\n",
       "      <td>2</td>\n",
       "      <td>3</td>\n",
       "      <td>4</td>\n",
       "      <td>5</td>\n",
       "      <td>6</td>\n",
       "      <td>7</td>\n",
       "      <td>8</td>\n",
       "    </tr>\n",
       "    <tr>\n",
       "      <th>1</th>\n",
       "      <td>11</td>\n",
       "      <td>22</td>\n",
       "      <td>33</td>\n",
       "      <td>44</td>\n",
       "      <td>55</td>\n",
       "      <td>66</td>\n",
       "      <td>77</td>\n",
       "      <td>88</td>\n",
       "    </tr>\n",
       "    <tr>\n",
       "      <th>2</th>\n",
       "      <td>111</td>\n",
       "      <td>222</td>\n",
       "      <td>333</td>\n",
       "      <td>444</td>\n",
       "      <td>555</td>\n",
       "      <td>666</td>\n",
       "      <td>777</td>\n",
       "      <td>888</td>\n",
       "    </tr>\n",
       "    <tr>\n",
       "      <th>3</th>\n",
       "      <td>1111</td>\n",
       "      <td>2222</td>\n",
       "      <td>3333</td>\n",
       "      <td>4444</td>\n",
       "      <td>5555</td>\n",
       "      <td>6666</td>\n",
       "      <td>7777</td>\n",
       "      <td>8888</td>\n",
       "    </tr>\n",
       "    <tr>\n",
       "      <th>4</th>\n",
       "      <td>91</td>\n",
       "      <td>92</td>\n",
       "      <td>93</td>\n",
       "      <td>94</td>\n",
       "      <td>95</td>\n",
       "      <td>96</td>\n",
       "      <td>97</td>\n",
       "      <td>98</td>\n",
       "    </tr>\n",
       "  </tbody>\n",
       "</table>\n",
       "</div>"
      ],
      "text/plain": [
       "   col1  col2  col3  col4  col5  col6  col7  col8\n",
       "0     1     2     3     4     5     6     7     8\n",
       "1    11    22    33    44    55    66    77    88\n",
       "2   111   222   333   444   555   666   777   888\n",
       "3  1111  2222  3333  4444  5555  6666  7777  8888\n",
       "4    91    92    93    94    95    96    97    98"
      ]
     },
     "execution_count": 11,
     "metadata": {},
     "output_type": "execute_result"
    }
   ],
   "source": [
    "connection.execute(f\"PRAGMA enable_data_inheritance;\")\n",
    "connection.execute(\"SELECT * FROM another_T\").fetchdf()"
   ]
  },
  {
   "cell_type": "markdown",
   "metadata": {},
   "source": [
    "Create Objects Locally"
   ]
  },
  {
   "cell_type": "code",
   "execution_count": 12,
   "metadata": {},
   "outputs": [
    {
     "data": {
      "text/plain": [
       "<duckdb.duckdb.DuckDBPyConnection at 0x7fb2bc5e9df0>"
      ]
     },
     "execution_count": 12,
     "metadata": {},
     "output_type": "execute_result"
    }
   ],
   "source": [
    "connection.execute('BEGIN TRANSACTION;')\n",
    "connection.execute('CREATE TABLE demo (col1 INT, col2 INT, col3 INT, col4 INT, col5 INT, col6 INT, col7 INT, col8 INT)')\n",
    "connection.execute(\"INSERT INTO demo VALUES (1,2,3,4,5,6,7,8), (11,22,33,44,55,66,77,88), (111,222,333,444,555,666,777,888), (1111,2222,3333,4444,5555,6666,7777,8888)\")\n",
    "connection.execute('COMMIT;')"
   ]
  },
  {
   "cell_type": "markdown",
   "metadata": {},
   "source": []
  },
  {
   "cell_type": "code",
   "execution_count": 13,
   "metadata": {},
   "outputs": [
    {
     "data": {
      "text/html": [
       "<div>\n",
       "<style scoped>\n",
       "    .dataframe tbody tr th:only-of-type {\n",
       "        vertical-align: middle;\n",
       "    }\n",
       "\n",
       "    .dataframe tbody tr th {\n",
       "        vertical-align: top;\n",
       "    }\n",
       "\n",
       "    .dataframe thead th {\n",
       "        text-align: right;\n",
       "    }\n",
       "</style>\n",
       "<table border=\"1\" class=\"dataframe\">\n",
       "  <thead>\n",
       "    <tr style=\"text-align: right;\">\n",
       "      <th></th>\n",
       "      <th>Success</th>\n",
       "    </tr>\n",
       "  </thead>\n",
       "  <tbody>\n",
       "  </tbody>\n",
       "</table>\n",
       "</div>"
      ],
      "text/plain": [
       "Empty DataFrame\n",
       "Columns: [Success]\n",
       "Index: []"
      ]
     },
     "execution_count": 13,
     "metadata": {},
     "output_type": "execute_result"
    }
   ],
   "source": [
    "connection.execute('PUSH DATABASE dev;').fetchdf()"
   ]
  },
  {
   "cell_type": "code",
   "execution_count": 3,
   "metadata": {},
   "outputs": [
    {
     "data": {
      "text/html": [
       "<div>\n",
       "<style scoped>\n",
       "    .dataframe tbody tr th:only-of-type {\n",
       "        vertical-align: middle;\n",
       "    }\n",
       "\n",
       "    .dataframe tbody tr th {\n",
       "        vertical-align: top;\n",
       "    }\n",
       "\n",
       "    .dataframe thead th {\n",
       "        text-align: right;\n",
       "    }\n",
       "</style>\n",
       "<table border=\"1\" class=\"dataframe\">\n",
       "  <thead>\n",
       "    <tr style=\"text-align: right;\">\n",
       "      <th></th>\n",
       "      <th>name</th>\n",
       "      <th>type</th>\n",
       "      <th>provider</th>\n",
       "      <th>persistent</th>\n",
       "      <th>storage</th>\n",
       "      <th>scope</th>\n",
       "      <th>secret_string</th>\n",
       "    </tr>\n",
       "  </thead>\n",
       "  <tbody>\n",
       "    <tr>\n",
       "      <th>0</th>\n",
       "      <td>vaultdb</td>\n",
       "      <td>s3</td>\n",
       "      <td>config</td>\n",
       "      <td>False</td>\n",
       "      <td>memory</td>\n",
       "      <td>[s3://, s3n://, s3a://]</td>\n",
       "      <td>name=vaultdb;type=s3;provider=config;serializa...</td>\n",
       "    </tr>\n",
       "  </tbody>\n",
       "</table>\n",
       "</div>"
      ],
      "text/plain": [
       "      name type provider  persistent storage                    scope  \\\n",
       "0  vaultdb   s3   config       False  memory  [s3://, s3n://, s3a://]   \n",
       "\n",
       "                                       secret_string  \n",
       "0  name=vaultdb;type=s3;provider=config;serializa...  "
      ]
     },
     "execution_count": 3,
     "metadata": {},
     "output_type": "execute_result"
    }
   ],
   "source": [
    "connection.execute('SELECT * FROM duckdb_secrets();').fetchdf()"
   ]
  },
  {
   "cell_type": "code",
   "execution_count": null,
   "metadata": {},
   "outputs": [],
   "source": []
  }
 ],
 "metadata": {
  "kernelspec": {
   "display_name": "Python 3",
   "language": "python",
   "name": "python3"
  },
  "language_info": {
   "codemirror_mode": {
    "name": "ipython",
    "version": 3
   },
   "file_extension": ".py",
   "mimetype": "text/x-python",
   "name": "python",
   "nbconvert_exporter": "python",
   "pygments_lexer": "ipython3",
   "version": "3.12.2"
  }
 },
 "nbformat": 4,
 "nbformat_minor": 2
}
